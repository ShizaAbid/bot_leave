{
 "cells": [
  {
   "cell_type": "code",
   "execution_count": 1,
   "metadata": {},
   "outputs": [],
   "source": [
    "import pandas as pd"
   ]
  },
  {
   "cell_type": "code",
   "execution_count": 34,
   "metadata": {},
   "outputs": [],
   "source": [
    "file = pd.read_excel(\"D:\\\\Leave_inquiry_model\\\\DataSetLeave_FinalMerge.xlsx\")"
   ]
  },
  {
   "cell_type": "code",
   "execution_count": 4,
   "metadata": {},
   "outputs": [],
   "source": [
    "file = file[file[\"Class\"] == \"emotion_LeaveRequest\"]"
   ]
  },
  {
   "cell_type": "code",
   "execution_count": 7,
   "metadata": {},
   "outputs": [],
   "source": [
    "file = file[[\"Leave Data Description\",\"Class\"]]"
   ]
  },
  {
   "cell_type": "code",
   "execution_count": 10,
   "metadata": {},
   "outputs": [],
   "source": [
    "B = file[\"Leave Data Description\"]\n",
    "A = file[\"Class\"]"
   ]
  },
  {
   "cell_type": "code",
   "execution_count": 11,
   "metadata": {},
   "outputs": [],
   "source": [
    "df = pd.DataFrame({'Leave Data Description': B, 'Class' : A})"
   ]
  },
  {
   "cell_type": "code",
   "execution_count": 13,
   "metadata": {},
   "outputs": [],
   "source": [
    "writer = pd.ExcelWriter('D:\\\\Leave_inquiry_model\\\\Indirect_Request.xlsx', engine='xlsxwriter')\n",
    "df.to_excel(writer, sheet_name='Indirect Leave')\n",
    "writer.save()"
   ]
  },
  {
   "cell_type": "code",
   "execution_count": 38,
   "metadata": {},
   "outputs": [],
   "source": [
    "file_L = file[file[\"Class\"] == \"LeaveRequest\"]\n",
    "file_I = file[file[\"Class\"] == \"LeaveEnquiry\"]\n"
   ]
  },
  {
   "cell_type": "code",
   "execution_count": 39,
   "metadata": {},
   "outputs": [],
   "source": [
    "file_L = file_L[[\"Leave Data Description\",\"Class\"]]\n",
    "B = file_L[\"Leave Data Description\"]\n",
    "A = file_L[\"Class\"]\n",
    "df = pd.DataFrame({'Leave Data Description': B, 'Class' : A})"
   ]
  },
  {
   "cell_type": "code",
   "execution_count": 40,
   "metadata": {},
   "outputs": [],
   "source": [
    "writer = pd.ExcelWriter('D:\\\\Leave_inquiry_model\\\\Leave.xlsx', engine='xlsxwriter')\n",
    "df.to_excel(writer, sheet_name='Leave')\n",
    "writer.save()"
   ]
  },
  {
   "cell_type": "code",
   "execution_count": 41,
   "metadata": {},
   "outputs": [],
   "source": [
    "file_I = file_I[[\"Leave Data Description\",\"Class\"]]\n",
    "B = file_I[\"Leave Data Description\"]\n",
    "A = file_I[\"Class\"]\n",
    "df = pd.DataFrame({'Leave Data Description': B, 'Class' : A})"
   ]
  },
  {
   "cell_type": "code",
   "execution_count": 42,
   "metadata": {},
   "outputs": [],
   "source": [
    "writer = pd.ExcelWriter('D:\\\\Leave_inquiry_model\\\\Inquiry.xlsx', engine='xlsxwriter')\n",
    "df.to_excel(writer, sheet_name='Inquiry')\n",
    "writer.save()"
   ]
  },
  {
   "cell_type": "code",
   "execution_count": null,
   "metadata": {},
   "outputs": [],
   "source": []
  }
 ],
 "metadata": {
  "kernelspec": {
   "display_name": "Python 3",
   "language": "python",
   "name": "python3"
  },
  "language_info": {
   "codemirror_mode": {
    "name": "ipython",
    "version": 3
   },
   "file_extension": ".py",
   "mimetype": "text/x-python",
   "name": "python",
   "nbconvert_exporter": "python",
   "pygments_lexer": "ipython3",
   "version": "3.7.1"
  }
 },
 "nbformat": 4,
 "nbformat_minor": 2
}
